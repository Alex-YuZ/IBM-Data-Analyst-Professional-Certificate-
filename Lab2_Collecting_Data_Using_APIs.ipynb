{
    "cells": [
        {
            "cell_type": "markdown",
            "metadata": {},
            "source": "<center>\n    <img src=\"https://gitlab.com/ibm/skills-network/courses/placeholder101/-/raw/master/labs/module%201/images/IDSNlogo.png\" width=\"300\" alt=\"cognitiveclass.ai logo\"  />\n</center>\n"
        },
        {
            "cell_type": "markdown",
            "metadata": {},
            "source": "# **Collecting Job Data Using APIs**\n"
        },
        {
            "cell_type": "markdown",
            "metadata": {},
            "source": "Estimated time needed: **45 to 60** minutes\n"
        },
        {
            "cell_type": "markdown",
            "metadata": {},
            "source": "## Objectives\n"
        },
        {
            "cell_type": "markdown",
            "metadata": {},
            "source": "After completing this lab, you will be able to:\n"
        },
        {
            "cell_type": "markdown",
            "metadata": {},
            "source": "*   Collect job data from GitHub Jobs API\n*   Store the collected data into an excel spreadsheet.\n"
        },
        {
            "cell_type": "markdown",
            "metadata": {},
            "source": "## Warm-Up Exercise\n"
        },
        {
            "cell_type": "markdown",
            "metadata": {},
            "source": "Before you attempt the actual lab, here is a fully solved warmup exercise that will help you to learn how to access an API.\n"
        },
        {
            "cell_type": "markdown",
            "metadata": {},
            "source": "Using an API, let us find out who currently are on the International Space Station (ISS).<br> The API at [http://api.open-notify.org/astros.json](http://api.open-notify.org/astros.json?utm_medium=Exinfluencer\\&utm_source=Exinfluencer\\&utm_content=000026UJ\\&utm_term=10006555\\&utm_id=NA-SkillsNetwork-Channel-SkillsNetworkCoursesIBMDA0321ENSkillsNetwork21426264-2021-01-01\\&cm_mmc=Email_Newsletter-\\_-Developer_Ed%2BTech-\\_-WW_WW-\\_-SkillsNetwork-Courses-IBM-DA0321EN-SkillsNetwork-21426264\\&cm_mmca1=000026UJ\\&cm_mmca2=10006555\\&cm_mmca3=M12345678\\&cvosrc=email.Newsletter.M12345678\\&cvo_campaign=000026UJ) gives us the information of astronauts currently on ISS in json format.<br>\nYou can read more about this API at [http://open-notify.org/Open-Notify-API/People-In-Space/](http://open-notify.org/Open-Notify-API/People-In-Space?utm_medium=Exinfluencer\\&utm_source=Exinfluencer\\&utm_content=000026UJ\\&utm_term=10006555\\&utm_id=NA-SkillsNetwork-Channel-SkillsNetworkCoursesIBMDA0321ENSkillsNetwork21426264-2021-01-01\\&cm_mmc=Email_Newsletter-\\_-Developer_Ed%2BTech-\\_-WW_WW-\\_-SkillsNetwork-Courses-IBM-DA0321EN-SkillsNetwork-21426264\\&cm_mmca1=000026UJ\\&cm_mmca2=10006555\\&cm_mmca3=M12345678\\&cvosrc=email.Newsletter.M12345678\\&cvo_campaign=000026UJ)\n"
        },
        {
            "cell_type": "code",
            "execution_count": 1,
            "metadata": {},
            "outputs": [],
            "source": "import requests # you need this module to make an API call"
        },
        {
            "cell_type": "code",
            "execution_count": 2,
            "metadata": {},
            "outputs": [],
            "source": "api_url = \"http://api.open-notify.org/astros.json\" # this url gives use the astronaut data"
        },
        {
            "cell_type": "code",
            "execution_count": 3,
            "metadata": {},
            "outputs": [],
            "source": "response = requests.get(api_url) # Call the API using the get method and store the\n                                # output of the API call in a variable called response."
        },
        {
            "cell_type": "code",
            "execution_count": 4,
            "metadata": {},
            "outputs": [],
            "source": "if response.ok:             # if all is well() no errors, no network timeouts)\n    data = response.json()  # store the result in json format in a variable called data\n                            # the variable data is of type dictionary."
        },
        {
            "cell_type": "code",
            "execution_count": 5,
            "metadata": {},
            "outputs": [
                {
                    "name": "stdout",
                    "output_type": "stream",
                    "text": "{'message': 'success', 'number': 10, 'people': [{'craft': 'ISS', 'name': 'Mark Vande Hei'}, {'craft': 'ISS', 'name': 'Oleg Novitskiy'}, {'craft': 'ISS', 'name': 'Pyotr Dubrov'}, {'craft': 'ISS', 'name': 'Thomas Pesquet'}, {'craft': 'ISS', 'name': 'Megan McArthur'}, {'craft': 'ISS', 'name': 'Shane Kimbrough'}, {'craft': 'ISS', 'name': 'Akihiko Hoshide'}, {'craft': 'ISS', 'name': 'Anton Shkaplerov'}, {'craft': 'ISS', 'name': 'Klim Shipenko'}, {'craft': 'ISS', 'name': 'Yulia Pereslid'}]}\n"
                }
            ],
            "source": "print(data)   # print the data just to check the output or for debugging"
        },
        {
            "cell_type": "markdown",
            "metadata": {},
            "source": "Print the number of astronauts currently on ISS.\n"
        },
        {
            "cell_type": "code",
            "execution_count": 6,
            "metadata": {},
            "outputs": [
                {
                    "name": "stdout",
                    "output_type": "stream",
                    "text": "10\n"
                }
            ],
            "source": "print(data.get('number'))"
        },
        {
            "cell_type": "markdown",
            "metadata": {},
            "source": "Print the names of the astronauts currently on ISS.\n"
        },
        {
            "cell_type": "code",
            "execution_count": 7,
            "metadata": {},
            "outputs": [
                {
                    "name": "stdout",
                    "output_type": "stream",
                    "text": "There are 10 astronauts on ISS\nAnd their names are :\nMark Vande Hei\nOleg Novitskiy\nPyotr Dubrov\nThomas Pesquet\nMegan McArthur\nShane Kimbrough\nAkihiko Hoshide\nAnton Shkaplerov\nKlim Shipenko\nYulia Pereslid\n"
                }
            ],
            "source": "astronauts = data.get('people')\nprint(\"There are {} astronauts on ISS\".format(len(astronauts)))\nprint(\"And their names are :\")\nfor astronaut in astronauts:\n    print(astronaut.get('name'))"
        },
        {
            "cell_type": "markdown",
            "metadata": {},
            "source": "Hope the warmup was helpful. Good luck with your next lab!\n"
        },
        {
            "cell_type": "markdown",
            "metadata": {},
            "source": "## Lab: Collect Jobs Data using GitHub Jobs API\n"
        },
        {
            "cell_type": "markdown",
            "metadata": {},
            "source": "### Objective: Determine the number of jobs currently open for various technologies\n"
        },
        {
            "cell_type": "markdown",
            "metadata": {},
            "source": "Collect the number of job postings for the following languages using the API:\n\n*   C\n*   C#\n*   C++\n*   Java\n*   JavaScript\n*   Python\n*   Scala\n*   Oracle\n*   SQL Server\n*   MySQL Server\n*   PostgreSQL\n*   MongoDB\n"
        },
        {
            "cell_type": "code",
            "execution_count": 8,
            "metadata": {},
            "outputs": [],
            "source": "#Import required libraries\n"
        },
        {
            "cell_type": "code",
            "execution_count": 10,
            "metadata": {},
            "outputs": [],
            "source": "baseurl = \"https://cf-courses-data.s3.us.cloud-object-storage.appdomain.cloud/IBM-DA0321EN-SkillsNetwork/labs/module%201/datasets/githubposting.json\""
        },
        {
            "cell_type": "markdown",
            "metadata": {},
            "source": "Write a function to get the number of jobs for the given technology.<br>\n*Note:* The API gives a maximum of 50 jobs per page.<br>\nIf you get 50 jobs per page, it means there could be some more job listings available.<br>\nSo if you get 50 jobs per page you should make another API call for next page to check for more jobs.<br>\nIf you get less than 50 jobs per page, you can take it as the final count.<br>\n"
        },
        {
            "cell_type": "code",
            "execution_count": 11,
            "metadata": {},
            "outputs": [
                {
                    "data": {
                        "text/plain": "[{'A': 'technology', 'B': 'number of job posting'},\n {'A': 'java', 'B': '92'},\n {'A': 'C', 'B': '184'},\n {'A': 'C#', 'B': '14'},\n {'A': 'C++', 'B': '24'},\n {'A': 'Java', 'B': '92'},\n {'A': 'JavaScript', 'B': '65'},\n {'A': 'Python', 'B': '51'},\n {'A': 'Scala', 'B': '47'},\n {'A': 'Oracle', 'B': '6'},\n {'A': 'SQL Server', 'B': '16'},\n {'A': 'MySQL Server', 'B': '5'},\n {'A': 'PostgreSQL', 'B': '17'},\n {'A': 'MongoDB', 'B': '4'}]"
                    },
                    "execution_count": 11,
                    "metadata": {},
                    "output_type": "execute_result"
                }
            ],
            "source": "# trial\nresponse = requests.get(baseurl)\n\n# Parse the response in .json format\ndata = response.json()\n\n# Check\ndata"
        },
        {
            "cell_type": "code",
            "execution_count": 12,
            "metadata": {},
            "outputs": [
                {
                    "name": "stdout",
                    "output_type": "stream",
                    "text": "['technology', 'java', 'C', 'C#', 'C++', 'Java', 'JavaScript', 'Python', 'Scala', 'Oracle', 'SQL Server', 'MySQL Server', 'PostgreSQL', 'MongoDB']\n"
                }
            ],
            "source": "job_listing = []\nfor i in data:\n    job_listing.append(i.get('A'))\n    \nprint(job_listing)"
        },
        {
            "cell_type": "code",
            "execution_count": 13,
            "metadata": {},
            "outputs": [],
            "source": "def get_number_of_jobs(technology):\n    number_of_jobs = 0\n    #your code goes here\n    response = requests.get(baseurl)\n    data = response.json()\n    for datum in data:\n        if datum.get('A').lower() == technology.lower():\n            number_of_jobs = datum.get('B')\n            return technology,number_of_jobs\n    if not number_of_jobs:\n        return \"WARNING! Enter right technology name!\"\n    "
        },
        {
            "cell_type": "markdown",
            "metadata": {},
            "source": "Call the function for Python and check if it is working.\n"
        },
        {
            "cell_type": "code",
            "execution_count": 14,
            "metadata": {},
            "outputs": [
                {
                    "name": "stdout",
                    "output_type": "stream",
                    "text": "('python', '51')\n"
                }
            ],
            "source": "print(get_number_of_jobs('python'))"
        },
        {
            "cell_type": "markdown",
            "metadata": {},
            "source": "### Store the results in an excel file\n"
        },
        {
            "cell_type": "markdown",
            "metadata": {},
            "source": "Call the API for all the given technologies above and write the results in an excel spreadsheet.\n"
        },
        {
            "cell_type": "markdown",
            "metadata": {},
            "source": "If you do not know how create excel file using python, double click here for **hints**.\n\n<!--\n\nfrom openpyxl import Workbook        # import Workbook class from module openpyxl\nwb=Workbook()                        # create a workbook object\nws=wb.active                         # use the active worksheet\nws.append(['Country','Continent'])   # add a row with two columns 'Country' and 'Continent'\nws.append(['Eygpt','Africa'])        # add a row with two columns 'Egypt' and 'Africa'\nws.append(['India','Asia'])          # add another row\nws.append(['France','Europe'])       # add another row\nwb.save(\"countries.xlsx\")            # save the workbook into a file called countries.xlsx\n\n\n-->\n"
        },
        {
            "cell_type": "markdown",
            "metadata": {},
            "source": "Create a python list of all technologies for which you need to find the number of jobs postings.\n"
        },
        {
            "cell_type": "code",
            "execution_count": 15,
            "metadata": {},
            "outputs": [],
            "source": "#your code goes here\ntechnology_list = ['java', 'C', 'C#', 'C++', 'Java', 'JavaScript', 'Python', 'Scala', 'Oracle', 'SQL Server', 'MySQL Server', 'PostgreSQL', 'MongoDB']\n"
        },
        {
            "cell_type": "markdown",
            "metadata": {},
            "source": "Import libraries required to create excel spreadsheet\n"
        },
        {
            "cell_type": "code",
            "execution_count": 16,
            "metadata": {},
            "outputs": [],
            "source": "# your code goes here\nfrom openpyxl import Workbook"
        },
        {
            "cell_type": "markdown",
            "metadata": {},
            "source": "Create a workbook and select the active worksheet\n"
        },
        {
            "cell_type": "code",
            "execution_count": 17,
            "metadata": {},
            "outputs": [],
            "source": "# create a workbook object\nwb=Workbook()                        \nws=wb.active  "
        },
        {
            "cell_type": "markdown",
            "metadata": {},
            "source": "Find the number of jobs postings for each of the technology in the above list.\nWrite the technology name and the number of jobs postings into the excel spreadsheet.\n"
        },
        {
            "cell_type": "code",
            "execution_count": 18,
            "metadata": {},
            "outputs": [],
            "source": "#your code goes here\nws.append(['technology', 'number of job posting'])\nfor tech in technology_list:\n    ws.append(list(get_number_of_jobs(tech)))\n    \n"
        },
        {
            "cell_type": "code",
            "execution_count": 19,
            "metadata": {},
            "outputs": [],
            "source": "ls"
        },
        {
            "cell_type": "markdown",
            "metadata": {},
            "source": "Save into an excel spreadsheet named 'github-job-postings.xlsx'.\n"
        },
        {
            "cell_type": "code",
            "execution_count": 20,
            "metadata": {},
            "outputs": [],
            "source": "#your code goes here\nwb.save('github_job_postings.xlsx')"
        },
        {
            "cell_type": "code",
            "execution_count": 22,
            "metadata": {},
            "outputs": [
                {
                    "data": {
                        "text/html": "<div>\n<style scoped>\n    .dataframe tbody tr th:only-of-type {\n        vertical-align: middle;\n    }\n\n    .dataframe tbody tr th {\n        vertical-align: top;\n    }\n\n    .dataframe thead th {\n        text-align: right;\n    }\n</style>\n<table border=\"1\" class=\"dataframe\">\n  <thead>\n    <tr style=\"text-align: right;\">\n      <th></th>\n      <th>technology</th>\n      <th>number of job posting</th>\n    </tr>\n  </thead>\n  <tbody>\n    <tr>\n      <th>0</th>\n      <td>java</td>\n      <td>92</td>\n    </tr>\n    <tr>\n      <th>1</th>\n      <td>C</td>\n      <td>184</td>\n    </tr>\n    <tr>\n      <th>2</th>\n      <td>C#</td>\n      <td>14</td>\n    </tr>\n    <tr>\n      <th>3</th>\n      <td>C++</td>\n      <td>24</td>\n    </tr>\n    <tr>\n      <th>4</th>\n      <td>Java</td>\n      <td>92</td>\n    </tr>\n    <tr>\n      <th>5</th>\n      <td>JavaScript</td>\n      <td>65</td>\n    </tr>\n    <tr>\n      <th>6</th>\n      <td>Python</td>\n      <td>51</td>\n    </tr>\n    <tr>\n      <th>7</th>\n      <td>Scala</td>\n      <td>47</td>\n    </tr>\n    <tr>\n      <th>8</th>\n      <td>Oracle</td>\n      <td>6</td>\n    </tr>\n    <tr>\n      <th>9</th>\n      <td>SQL Server</td>\n      <td>16</td>\n    </tr>\n    <tr>\n      <th>10</th>\n      <td>MySQL Server</td>\n      <td>5</td>\n    </tr>\n    <tr>\n      <th>11</th>\n      <td>PostgreSQL</td>\n      <td>17</td>\n    </tr>\n    <tr>\n      <th>12</th>\n      <td>MongoDB</td>\n      <td>4</td>\n    </tr>\n  </tbody>\n</table>\n</div>",
                        "text/plain": "      technology  number of job posting\n0           java                     92\n1              C                    184\n2             C#                     14\n3            C++                     24\n4           Java                     92\n5     JavaScript                     65\n6         Python                     51\n7          Scala                     47\n8         Oracle                      6\n9     SQL Server                     16\n10  MySQL Server                      5\n11    PostgreSQL                     17\n12       MongoDB                      4"
                    },
                    "execution_count": 22,
                    "metadata": {},
                    "output_type": "execute_result"
                }
            ],
            "source": "# Verification\nimport pandas as pd\ndf = pd.read_excel('github_job_postings.xlsx')\ndf"
        },
        {
            "cell_type": "code",
            "execution_count": 33,
            "metadata": {},
            "outputs": [
                {
                    "data": {
                        "text/plain": "[(0.86, 0.3712, 0.33999999999999997),\n (0.8287999999999999, 0.86, 0.33999999999999997),\n (0.33999999999999997, 0.86, 0.3712),\n (0.33999999999999997, 0.8287999999999999, 0.86),\n (0.3712, 0.33999999999999997, 0.86),\n (0.86, 0.33999999999999997, 0.8287999999999999)]"
                    },
                    "execution_count": 33,
                    "metadata": {},
                    "output_type": "execute_result"
                }
            ],
            "source": "sns.color_palette('hls')[:13]"
        },
        {
            "cell_type": "code",
            "execution_count": 73,
            "metadata": {},
            "outputs": [
                {
                    "data": {
                        "image/png": "[encoded data removed]",
                        "text/plain": "<Figure size 1008x576 with 1 Axes>"
                    },
                    "metadata": {
                        "needs_background": "light"
                    },
                    "output_type": "display_data"
                }
            ],
            "source": "import seaborn as sns\nimport matplotlib.pyplot as plt\n\n\ndef hide_spine(*args):\n    for arg in args:\n        ax.spines[arg].set_visible(None)\n        \n    if 'left' in args:\n        plt.yticks([])\n\n\ndef show_values(ax):\n    for p in ax.patches:\n        _x = p.get_x() + p.get_width() / 2\n        _y = p.get_y() + p.get_height() + 2\n        value = '{:.2f}'.format(p.get_height())\n        ax.text(_x, _y, value, ha=\"center\")\n        \n# Set bar colors\ncolors = sns.color_palette('hls')[:13]\n\n# Set figure size\nplt.figure(figsize=(14, 8))\n\n# Plotting\nax = sns.barplot(data=df, x='technology', y='number of job posting', order=df.sort_values(by='number of job posting', ascending=False).technology,palette=colors)\nplt.title(\"Number of Jobs Open for Technologies\", fontsize=18, fontweight='bold')\n\n# Change figure properties\nplt.xticks(fontsize=12, rotation=20, ha='right')\nplt.xlabel('Technology Type', fontsize=14, labelpad=12)\nplt.ylabel('# of Postings', fontsize=14, labelpad=12);\nshow_values(ax)\nhide_spine('top', 'right', 'left')"
        },
        {
            "cell_type": "markdown",
            "metadata": {},
            "source": "## Authors\n"
        },
        {
            "cell_type": "markdown",
            "metadata": {},
            "source": "Ramesh Sannareddy\n"
        },
        {
            "cell_type": "markdown",
            "metadata": {},
            "source": "### Other Contributors\n"
        },
        {
            "cell_type": "markdown",
            "metadata": {},
            "source": "Rav Ahuja\n"
        },
        {
            "cell_type": "markdown",
            "metadata": {},
            "source": "## Change Log\n"
        },
        {
            "cell_type": "markdown",
            "metadata": {},
            "source": "| Date (YYYY-MM-DD) | Version | Changed By        | Change Description                 |\n| ----------------- | ------- | ----------------- | ---------------------------------- |\n| 2021-6-25         | 0.2     | Malika            | Updated GitHub job json link       |\n| 2020-10-17        | 0.1     | Ramesh Sannareddy | Created initial version of the lab |\n"
        },
        {
            "cell_type": "markdown",
            "metadata": {},
            "source": "Copyright \u00a9 2020 IBM Corporation. This notebook and its source code are released under the terms of the [MIT License](https://cognitiveclass.ai/mit-license?utm_medium=Exinfluencer\\&utm_source=Exinfluencer\\&utm_content=000026UJ\\&utm_term=10006555\\&utm_id=NA-SkillsNetwork-Channel-SkillsNetworkCoursesIBMDA0321ENSkillsNetwork21426264-2021-01-01\\&cm_mmc=Email_Newsletter-\\_-Developer_Ed%2BTech-\\_-WW_WW-\\_-SkillsNetwork-Courses-IBM-DA0321EN-SkillsNetwork-21426264\\&cm_mmca1=000026UJ\\&cm_mmca2=10006555\\&cm_mmca3=M12345678\\&cvosrc=email.Newsletter.M12345678\\&cvo_campaign=000026UJ).\n"
        }
    ],
    "metadata": {
        "kernelspec": {
            "display_name": "Python 3.8",
            "language": "python",
            "name": "python3"
        },
        "language_info": {
            "codemirror_mode": {
                "name": "ipython",
                "version": 3
            },
            "file_extension": ".py",
            "mimetype": "text/x-python",
            "name": "python",
            "nbconvert_exporter": "python",
            "pygments_lexer": "ipython3",
            "version": "3.8.11"
        }
    },
    "nbformat": 4,
    "nbformat_minor": 4
}